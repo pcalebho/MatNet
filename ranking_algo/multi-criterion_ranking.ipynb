{
 "cells": [
  {
   "cell_type": "code",
   "execution_count": 2,
   "metadata": {},
   "outputs": [],
   "source": [
    "#Import test data\n",
    "import pandas as pd\n",
    "import skcriteria as skc\n",
    "import numpy as np\n",
    "df = pd.read_csv('C:/Users/ttrol/CodingProjects/MatNet/ranking_algo/cars.csv')\n",
    "\n",
    "\n"
   ]
  },
  {
   "cell_type": "code",
   "execution_count": 3,
   "metadata": {},
   "outputs": [
    {
     "data": {
      "text/plain": [
       "[[1, 2, 3], [4, 5, 6]]"
      ]
     },
     "execution_count": 3,
     "metadata": {},
     "output_type": "execute_result"
    }
   ],
   "source": [
    "# 2 alternatives by 3 criteria\n",
    "matrix = [\n",
    "    [1, 2, 3],  # alternative 1\n",
    "    [4, 5, 6],  # alternative 2\n",
    "]\n",
    "matrix\n",
    "# print(df.values)"
   ]
  },
  {
   "cell_type": "code",
   "execution_count": 4,
   "metadata": {},
   "outputs": [
    {
     "data": {
      "text/plain": [
       "[<function max>, <function max>, <function min>]"
      ]
     },
     "execution_count": 4,
     "metadata": {},
     "output_type": "execute_result"
    }
   ],
   "source": [
    "# let's says the first two alternatives are\n",
    "# for maximization and the last one for minimization\n",
    "objectives = [max, max, min]\n",
    "objectives"
   ]
  },
  {
   "cell_type": "code",
   "execution_count": 5,
   "metadata": {},
   "outputs": [
    {
     "data": {
      "text/html": [
       "<div class='decisionmatrix'>\n",
       "<div>\n",
       "<style scoped>\n",
       "    .dataframe tbody tr th:only-of-type {\n",
       "        vertical-align: middle;\n",
       "    }\n",
       "\n",
       "    .dataframe tbody tr th {\n",
       "        vertical-align: top;\n",
       "    }\n",
       "\n",
       "    .dataframe thead th {\n",
       "        text-align: right;\n",
       "    }\n",
       "</style>\n",
       "<table border=\"1\" class=\"dataframe\">\n",
       "  <thead>\n",
       "    <tr style=\"text-align: right;\">\n",
       "      <th></th>\n",
       "      <th>C0[▼ 1.0]</th>\n",
       "      <th>C1[▲ 1.0]</th>\n",
       "      <th>C2[▼ 1.0]</th>\n",
       "    </tr>\n",
       "  </thead>\n",
       "  <tbody>\n",
       "    <tr>\n",
       "      <th>A0</th>\n",
       "      <td>1</td>\n",
       "      <td>2</td>\n",
       "      <td>3</td>\n",
       "    </tr>\n",
       "    <tr>\n",
       "      <th>A1</th>\n",
       "      <td>4</td>\n",
       "      <td>5</td>\n",
       "      <td>6</td>\n",
       "    </tr>\n",
       "  </tbody>\n",
       "</table>\n",
       "</div><em class='decisionmatrix-dim'>2 Alternatives x 3 Criteria</em>\n",
       "</div>"
      ],
      "text/plain": [
       "    C0[▼ 1.0]  C1[▲ 1.0]  C2[▼ 1.0]\n",
       "A0          1          2          3\n",
       "A1          4          5          6\n",
       "[2 Alternatives x 3 Criteria]"
      ]
     },
     "execution_count": 5,
     "metadata": {},
     "output_type": "execute_result"
    }
   ],
   "source": [
    "# we use the built-in function as aliases\n",
    "dm = skc.mkdm(matrix, [min, max, min])\n",
    "dm"
   ]
  },
  {
   "cell_type": "code",
   "execution_count": 6,
   "metadata": {},
   "outputs": [
    {
     "data": {
      "text/html": [
       "<div class='decisionmatrix'>\n",
       "<div>\n",
       "<style scoped>\n",
       "    .dataframe tbody tr th:only-of-type {\n",
       "        vertical-align: middle;\n",
       "    }\n",
       "\n",
       "    .dataframe tbody tr th {\n",
       "        vertical-align: top;\n",
       "    }\n",
       "\n",
       "    .dataframe thead th {\n",
       "        text-align: right;\n",
       "    }\n",
       "</style>\n",
       "<table border=\"1\" class=\"dataframe\">\n",
       "  <thead>\n",
       "    <tr style=\"text-align: right;\">\n",
       "      <th></th>\n",
       "      <th>autonomy[▲ 0.50]</th>\n",
       "      <th>comfort[▲ 0.05]</th>\n",
       "      <th>price[▼ 0.45]</th>\n",
       "    </tr>\n",
       "  </thead>\n",
       "  <tbody>\n",
       "    <tr>\n",
       "      <th>VW</th>\n",
       "      <td>1</td>\n",
       "      <td>2</td>\n",
       "      <td>3</td>\n",
       "    </tr>\n",
       "    <tr>\n",
       "      <th>Ford</th>\n",
       "      <td>4</td>\n",
       "      <td>5</td>\n",
       "      <td>6</td>\n",
       "    </tr>\n",
       "  </tbody>\n",
       "</table>\n",
       "</div><em class='decisionmatrix-dim'>2 Alternatives x 3 Criteria</em>\n",
       "</div>"
      ],
      "text/plain": [
       "      autonomy[▲ 0.50]  comfort[▲ 0.05]  price[▼ 0.45]\n",
       "VW                   1                2              3\n",
       "Ford                 4                5              6\n",
       "[2 Alternatives x 3 Criteria]"
      ]
     },
     "execution_count": 6,
     "metadata": {},
     "output_type": "execute_result"
    }
   ],
   "source": [
    "dm = skc.mkdm(\n",
    "    matrix,\n",
    "    objectives,\n",
    "    alternatives=[\"car 0\", \"car 1\"],\n",
    "    weights=[0.5, 0.05, 0.45],\n",
    "    criteria=[\"autonomy\", \"comfort\", \"price\"],\n",
    ")\n",
    "dm = dm.copy(alternatives=[\"VW\", \"Ford\"])\n",
    "dm"
   ]
  },
  {
   "cell_type": "code",
   "execution_count": 7,
   "metadata": {},
   "outputs": [
    {
     "name": "stdout",
     "output_type": "stream",
     "text": [
      "      autonomy[▲ 0.50]  comfort[▲ 0.05]  price[▲ 0.45]\n",
      "VW                   1                2       0.333333\n",
      "Ford                 4                5       0.166667\n",
      "[2 Alternatives x 3 Criteria]\n"
     ]
    },
    {
     "data": {
      "text/html": [
       "<div class='decisionmatrix'>\n",
       "<div>\n",
       "<style scoped>\n",
       "    .dataframe tbody tr th:only-of-type {\n",
       "        vertical-align: middle;\n",
       "    }\n",
       "\n",
       "    .dataframe tbody tr th {\n",
       "        vertical-align: top;\n",
       "    }\n",
       "\n",
       "    .dataframe thead th {\n",
       "        text-align: right;\n",
       "    }\n",
       "</style>\n",
       "<table border=\"1\" class=\"dataframe\">\n",
       "  <thead>\n",
       "    <tr style=\"text-align: right;\">\n",
       "      <th></th>\n",
       "      <th>autonomy[▲ 0.50]</th>\n",
       "      <th>comfort[▲ 0.05]</th>\n",
       "      <th>price[▲ 0.45]</th>\n",
       "    </tr>\n",
       "  </thead>\n",
       "  <tbody>\n",
       "    <tr>\n",
       "      <th>VW</th>\n",
       "      <td>0.2</td>\n",
       "      <td>0.285714</td>\n",
       "      <td>0.666667</td>\n",
       "    </tr>\n",
       "    <tr>\n",
       "      <th>Ford</th>\n",
       "      <td>0.8</td>\n",
       "      <td>0.714286</td>\n",
       "      <td>0.333333</td>\n",
       "    </tr>\n",
       "  </tbody>\n",
       "</table>\n",
       "</div><em class='decisionmatrix-dim'>2 Alternatives x 3 Criteria</em>\n",
       "</div>"
      ],
      "text/plain": [
       "      autonomy[▲ 0.50]  comfort[▲ 0.05]  price[▲ 0.45]\n",
       "VW                 0.2         0.285714       0.666667\n",
       "Ford               0.8         0.714286       0.333333\n",
       "[2 Alternatives x 3 Criteria]"
      ]
     },
     "execution_count": 7,
     "metadata": {},
     "output_type": "execute_result"
    }
   ],
   "source": [
    "from skcriteria.preprocessing import invert_objectives, scalers\n",
    "\n",
    "#SKC handles maximization or minimization only best , so we invert the third row to be a maximization problem \n",
    "#maximization is preferable to minimizationm\n",
    "inverter = invert_objectives.InvertMinimize()\n",
    "dmt = inverter.transform(dm)\n",
    "print(dmt)\n",
    "\n",
    "#normalizes values\n",
    "scaler = scalers.SumScaler(target=\"both\")\n",
    "dmt = scaler.transform(dmt)\n",
    "dmt"
   ]
  },
  {
   "cell_type": "code",
   "execution_count": 8,
   "metadata": {},
   "outputs": [
    {
     "data": {
      "image/png": "[encoded data removed]",
      "text/plain": [
       "<Figure size 1200x500 with 2 Axes>"
      ]
     },
     "metadata": {},
     "output_type": "display_data"
    }
   ],
   "source": [
    "# we are going to user matplotlib capabilities of creat multiple figures\n",
    "import matplotlib.pyplot as plt\n",
    "\n",
    "# we create 2 axis with the same y axis\n",
    "fig, axs = plt.subplots(1, 2, figsize=(12, 5), sharey=True)\n",
    "\n",
    "# in the first axis we plot the criteria KDE\n",
    "dmt.plot.kde(ax=axs[0])\n",
    "axs[0].set_title(\"Criteria\")\n",
    "\n",
    "\n",
    "# in the second axis we plot the weights as bars\n",
    "dmt.plot.wbar(ax=axs[1])\n",
    "axs[1].set_title(\"Weights\")\n",
    "\n",
    "# adjust the layout of the figute based on the content\n",
    "fig.tight_layout()"
   ]
  },
  {
   "cell_type": "code",
   "execution_count": 10,
   "metadata": {},
   "outputs": [
    {
     "data": {
      "text/plain": [
       "array([0.41428571, 0.58571429])"
      ]
     },
     "execution_count": 10,
     "metadata": {},
     "output_type": "execute_result"
    }
   ],
   "source": [
    "from skcriteria.madm import simple\n",
    "\n",
    "dec = simple.WeightedSumModel()\n",
    "rank = dec.evaluate(dmt)  # we use the tansformed version of the data\n",
    "rank"
   ]
  }
 ],
 "metadata": {
  "kernelspec": {
   "display_name": "Python 3",
   "language": "python",
   "name": "python3"
  },
  "language_info": {
   "codemirror_mode": {
    "name": "ipython",
    "version": 3
   },
   "file_extension": ".py",
   "mimetype": "text/x-python",
   "name": "python",
   "nbconvert_exporter": "python",
   "pygments_lexer": "ipython3",
   "version": "3.10.11"
  },
  "orig_nbformat": 4
 },
 "nbformat": 4,
 "nbformat_minor": 2
}
