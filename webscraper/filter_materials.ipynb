{
 "cells": [
  {
   "cell_type": "code",
   "execution_count": 1,
   "metadata": {},
   "outputs": [
    {
     "name": "stdout",
     "output_type": "stream",
     "text": [
      "Raw Size:  13620\n"
     ]
    }
   ],
   "source": [
    "import yaml\n",
    "\n",
    "folder_location = 'C:/Users/ttrol/CodingProjects/MatNet/webscraper/results_files/'\n",
    "filename = 'propertySearch_filtered.yaml'\n",
    "file_location = folder_location + filename\n",
    "\n",
    "with open(file_location, \"r\") as stream:\n",
    "    try:\n",
    "        raw_materials = yaml.safe_load(stream)\n",
    "        print('Raw Size: ', len(raw_materials))\n",
    "    except yaml.YAMLError as exc:\n",
    "        print(exc)"
   ]
  },
  {
   "cell_type": "code",
   "execution_count": 4,
   "metadata": {},
   "outputs": [],
   "source": [
    "def filter_by_keyword(word: str, list):\n",
    "    removed_items = []\n",
    "    i = 0\n",
    "    while (i < len(list)):\n",
    "        if word in list[i]['name'] or word in list[i]['name']:\n",
    "            a = list.pop(i)\n",
    "            removed_items.append(a)\n",
    "        else:\n",
    "            i += 1\n",
    "\n",
    "    print('Items removed: ', len(removed_items))\n",
    "    return (list, removed_items)"
   ]
  },
  {
   "cell_type": "code",
   "execution_count": 2,
   "metadata": {},
   "outputs": [],
   "source": [
    "filtered_file = raw_materials"
   ]
  },
  {
   "cell_type": "code",
   "execution_count": 5,
   "metadata": {},
   "outputs": [
    {
     "name": "stdout",
     "output_type": "stream",
     "text": [
      "Items removed:  1813\n"
     ]
    }
   ],
   "source": [
    "#for filtering\n",
    "(filtered_file, removed_items) = filter_by_keyword('AISI', filtered_file)\n",
    "# (filtered_file, removed_items) = filter_by_keyword('word', filtered_file)"
   ]
  },
  {
   "cell_type": "code",
   "execution_count": 22,
   "metadata": {},
   "outputs": [],
   "source": [
    "#for outputting the filtered file\n",
    "result_file = 'filtered.yaml'\n",
    "\n",
    "with open(folder_location+result_file, 'w') as file:\n",
    "    yaml.dump(filtered_file, file)"
   ]
  },
  {
   "cell_type": "code",
   "execution_count": 6,
   "metadata": {},
   "outputs": [],
   "source": [
    "#for outputting the removed items\n",
    "result_file = 'AISI_steels.yaml'\n",
    "\n",
    "with open(folder_location+result_file, 'w') as file:\n",
    "    yaml.dump(removed_items, file)"
   ]
  },
  {
   "cell_type": "code",
   "execution_count": 7,
   "metadata": {},
   "outputs": [],
   "source": [
    "%reset"
   ]
  }
 ],
 "metadata": {
  "kernelspec": {
   "display_name": "webscraper-venv",
   "language": "python",
   "name": "python3"
  },
  "language_info": {
   "codemirror_mode": {
    "name": "ipython",
    "version": 3
   },
   "file_extension": ".py",
   "mimetype": "text/x-python",
   "name": "python",
   "nbconvert_exporter": "python",
   "pygments_lexer": "ipython3",
   "version": "3.11.4"
  },
  "orig_nbformat": 4
 },
 "nbformat": 4,
 "nbformat_minor": 2
}
