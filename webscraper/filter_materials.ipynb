{
 "cells": [
  {
   "cell_type": "code",
   "execution_count": 16,
   "metadata": {},
   "outputs": [],
   "source": [
    "import yaml\n",
    "\n",
    "folder_location = 'C:/Users/ttrol/CodingProjects/MatNet/webscraper/results_files/'\n",
    "filename = 'propertySearch_filtered.yaml'\n",
    "file_location = folder_location + filename\n",
    "\n",
    "with open(file_location, \"r\") as stream:\n",
    "    try:\n",
    "        raw_materials = yaml.safe_load(stream)\n",
    "        print('Raw Size: ', len(raw_materials))\n",
    "    except yaml.YAMLError as exc:\n",
    "        print(exc)"
   ]
  },
  {
   "cell_type": "code",
   "execution_count": 21,
   "metadata": {},
   "outputs": [
    {
     "name": "stdout",
     "output_type": "stream",
     "text": [
      "13620\n"
     ]
    }
   ],
   "source": [
    "def filter_by_keyword(word: str, list):\n",
    "    i = 0\n",
    "    while (i < len(list)):\n",
    "        if word in list[i]['name'] or word in list[i]['name']:\n",
    "            a = list.pop(i)\n",
    "        else:\n",
    "            i += 1\n",
    "\n",
    "    return list"
   ]
  },
  {
   "cell_type": "code",
   "execution_count": null,
   "metadata": {},
   "outputs": [],
   "source": [
    "filtered_file = raw_materials"
   ]
  },
  {
   "cell_type": "code",
   "execution_count": null,
   "metadata": {},
   "outputs": [],
   "source": [
    "filtered_file = filter_by_keyword('word', filtered_file)\n",
    "filtered_file = filter_by_keyword('word', filtered_file)"
   ]
  },
  {
   "cell_type": "code",
   "execution_count": 22,
   "metadata": {},
   "outputs": [],
   "source": [
    "result_file = 'filtered.yaml'\n",
    "\n",
    "with open(folder_location+'propertySearch_filtered.yaml', 'w') as file:\n",
    "    yaml.dump(filtered_file, file)"
   ]
  }
 ],
 "metadata": {
  "kernelspec": {
   "display_name": "webscraper-venv",
   "language": "python",
   "name": "python3"
  },
  "language_info": {
   "codemirror_mode": {
    "name": "ipython",
    "version": 3
   },
   "file_extension": ".py",
   "mimetype": "text/x-python",
   "name": "python",
   "nbconvert_exporter": "python",
   "pygments_lexer": "ipython3",
   "version": "3.11.4"
  },
  "orig_nbformat": 4
 },
 "nbformat": 4,
 "nbformat_minor": 2
}
