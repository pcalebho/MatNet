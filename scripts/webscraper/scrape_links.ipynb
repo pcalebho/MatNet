{
 "cells": [
  {
   "cell_type": "code",
   "execution_count": 1,
   "metadata": {},
   "outputs": [
    {
     "name": "stdout",
     "output_type": "stream",
     "text": [
      "Raw Size:  11807\n"
     ]
    }
   ],
   "source": [
    "import yaml\n",
    "import pandas as pd\n",
    "\n",
    "folder_location = 'C:/Users/ttrol/CodingProjects/MatNet/scripts/webscraper/results_files/'\n",
    "filename = 'No_AISI.yaml'\n",
    "file_location = folder_location + filename\n",
    "\n",
    "with open(file_location, \"r\") as stream:\n",
    "    try:\n",
    "        raw_materials = yaml.safe_load(stream)\n",
    "        print('Raw Size: ', len(raw_materials))\n",
    "        raw_df = pd.DataFrame(raw_materials)\n",
    "    except yaml.YAMLError as exc:\n",
    "        print(exc)"
   ]
  },
  {
   "cell_type": "code",
   "execution_count": 23,
   "metadata": {},
   "outputs": [],
   "source": [
    "import time\n",
    "\n",
    "def time_it(func):\n",
    "    def wrapper(*args, **kwargs):\n",
    "        start_time = time.time()\n",
    "        result = func(*args, **kwargs)\n",
    "        end_time = time.time()\n",
    "        execution_time = end_time - start_time\n",
    "        print(f\"Function '{func.__name__}' executed in {execution_time:.6f} seconds.\")\n",
    "        return result\n",
    "    return wrapper"
   ]
  },
  {
   "cell_type": "code",
   "execution_count": 11,
   "metadata": {},
   "outputs": [
    {
     "data": {
      "text/plain": [
       "{'source': 'https://matweb.com/search/DataSheet.aspx?MatGUID=0cd24112533d4d18b2b09265af4747fc',\n",
       " 'name': 'Polymer Resources PPX-FR1 Modified-PPO, V-0 Flame Retardant',\n",
       " 'categories': ['Polymer',\n",
       "  'Thermoplastic',\n",
       "  'Polyphenylene Ether/PPO',\n",
       "  'Polyphenylene Ether, Heat Resistant'],\n",
       " 'material_notes': 'Modified-Polyphenylene Oxide, V-0 Flame Retardant, 190F HDTFeatures:  • Bromine Free  • Chlorine FreeProcess: Injection MoldingNotes: All physical, mechanical and thermal testing conducted on 1/8-inch thick, un-pigmented, test samples.Information provided by Polymer Resources Corporation.',\n",
       " 'physical_properties': {'specific_gravity': {'value': 1.08, 'units': 'g/cc'},\n",
       "  'linear_mold_shrinkage': None,\n",
       "  'melt_flow': None},\n",
       " 'mechanical_properties': {'hardness_rockwell_r': {'value': 118, 'units': ''},\n",
       "  'tensile_strength_at_break': {'value': 41.4, 'units': 'MPa'},\n",
       "  'tensile_strength_yield': {'value': 44.8, 'units': 'MPa'},\n",
       "  'elongation_at_break': {'value': 9.0, 'units': '%'},\n",
       "  'elongation_at_yield': {'value': 3.5, 'units': '%'},\n",
       "  'tensile_modulus': {'value': 2.41, 'units': 'GPa'},\n",
       "  'flexural_strength': {'value': 89.6, 'units': 'MPa'},\n",
       "  'flexural_modulus': {'value': 2.07, 'units': 'GPa'},\n",
       "  'izod_impact_notched': None,\n",
       "  'izod_impact_unnotched': None,\n",
       "  'charpy_impact_notched': None,\n",
       "  'gardner_impact': {'value': 16.9, 'units': 'J'}},\n",
       " 'electrical_properties': {'volume_resistivity': {'value': 1e+17,\n",
       "   'units': 'ohm-cm'},\n",
       "  'dielectric_strength': {'value': 22.0, 'units': 'kV/mm'},\n",
       "  'comparative_tracking_index': None,\n",
       "  'hot_wire_ignition_hwi': None,\n",
       "  'high_amp_arc_ignition_hai': None,\n",
       "  'high_voltage_arc-tracking_rate_hvtr': None},\n",
       " 'thermal_properties': {'deflection_temperature_at_0.46_mpa_(66_psi)': {'value': 87.8,\n",
       "   'units': '°C'},\n",
       "  'deflection_temperature_at_1.8_mpa_(264_psi)': {'value': 82.2,\n",
       "   'units': '°C'},\n",
       "  'vicat_softening_point': {'value': 103.0, 'units': '°C'},\n",
       "  'ul_rti_electrical': None,\n",
       "  'ul_rti_mechanical_with_impact': None,\n",
       "  'ul_rti_mechanical_without_impact': None,\n",
       "  'flammability_ul94': None},\n",
       " 'processing_properties': {'rear_barrel_temperature': None,\n",
       "  'middle_barrel_temperature': None,\n",
       "  'front_barrel_temperature': None,\n",
       "  'melt_temperature': None,\n",
       "  'mold_temperature': None,\n",
       "  'drying_temperature': None,\n",
       "  'dry_time': None,\n",
       "  'vent_depth': {'value': 0.00254, 'units': 'cm'}}}"
      ]
     },
     "execution_count": 11,
     "metadata": {},
     "output_type": "execute_result"
    }
   ],
   "source": [
    "import requests\n",
    "import random\n",
    "from bs4 import BeautifulSoup\n",
    "\n",
    "#oxylabs authentication\n",
    "USERNAME = \"pcho69\"\n",
    "PASSWORD = \"StealthyWebsitePumpk1n\"\n",
    "ENDPOINT = \"pr.oxylabs.io:7777\"\n",
    "\n",
    "\n",
    "entry = ('http://customer-%s:%s@%s' %\n",
    "    (USERNAME, PASSWORD, ENDPOINT))\n",
    "query = {\n",
    "    'http': entry,\n",
    "    'https': entry,\n",
    "}\n",
    "session = requests.Session()\n",
    "\n",
    "\n",
    "# link = raw_df.link[random.randint(0,len(raw_df)-1)]\n",
    "link = raw_df.link[0]\n",
    "\n",
    "def convert_to_numeric_value(value_string):\n",
    "    try:\n",
    "        split_string = value_string.split()\n",
    "        if len(split_string) == 2:\n",
    "            numeric_value = float(split_string[0])\n",
    "            units = split_string[1]\n",
    "            return {'value': numeric_value, 'units': units}\n",
    "        elif len(split_string) == 1:\n",
    "            numeric_value = int(value_string)\n",
    "            return {'value': numeric_value, 'units': ''}\n",
    "        else:\n",
    "            return None\n",
    "    except ValueError:\n",
    "        # If the conversion fails, return None or handle the error accordingly\n",
    "        return None\n",
    "\n",
    "def parse_page(link, sesh):\n",
    "    result = {}\n",
    "    result['source'] = link\n",
    "\n",
    "    response = sesh.get(\n",
    "        headers={\n",
    "            'User-Agent': 'Mozilla/5.0 (Windows NT 10.0; Win64; x64) AppleWebKit/537.36 (KHTML, like Gecko) Chrome/58.0.3029.110 Safari/537.36',\n",
    "        },\n",
    "        url=link,\n",
    "        proxies= query,\n",
    "        verify=True\n",
    "    )\n",
    "\n",
    "    soup = BeautifulSoup(response.content,'html')\n",
    "\n",
    "    #find name of material in page and remove unnecessary whitespace\n",
    "    material_name = soup.find('title').get_text() # pyright: ignore[reportOptionalMemberAccess]  # noqa: E501\n",
    "    material_name = material_name.strip()\n",
    "    result['name'] = material_name\n",
    "\n",
    "    table = soup.select('div#ctl00_ContentMain_ucDataSheet1_pnlMaterialData table.tabledataformat')\n",
    "    if len(table) != 2:\n",
    "        raise Exception('IP Blocked')\n",
    "\n",
    "    #find supplementary notes in tables\n",
    "    matl_notes_table = table[0].find(id= \"ctl00_ContentMain_ucDataSheet1_trMatlNotes\")\n",
    "    category_table = table[0].find(id= \"ctl00_ContentMain_ucDataSheet1_trMatlGroups\")\n",
    "    \n",
    "    material_notes = None\n",
    "    categories = None\n",
    "\n",
    "    try:\n",
    "        if matl_notes_table is not None:\n",
    "            material_notes = matl_notes_table.find('td').text   #type: ignore\n",
    "        \n",
    "        if category_table is not None:\n",
    "            categories = category_table.find('td').text  #type: ignore\n",
    "            categories = [item.strip() for item in categories.split(\";\")]\n",
    "        \n",
    "        result['categories'] = categories\n",
    "        result['material_notes'] = material_notes\n",
    "    except Exception:\n",
    "        exception_msg = 'Issues with grabbing material and category notes: ' \\\n",
    "            + link\n",
    "        print(exception_msg)\n",
    "        \n",
    "\n",
    "    #Second table in html page has correct content\n",
    "    main_table_rows = table[1].find_all('tr')\n",
    "    property_tables = []\n",
    "    if main_table_rows is None:\n",
    "        raise TypeError('Cannot parse None type')\n",
    "  \n",
    "    \n",
    "    #This creates a list of tables from the main content table. \n",
    "    property_type = None\n",
    "    for row in main_table_rows:\n",
    "        type = row.select('th:not([class])')\n",
    "        if len(type) > 0:\n",
    "            property_type = type[0].text.strip()\n",
    "            property_type = property_type.replace(',','').replace(' ','_').lower()\n",
    "            continue\n",
    "\n",
    "        prop = row.select('td:not([class])')\n",
    "        if len(prop) > 0:\n",
    "            prop = prop[0].text.strip().replace(',','').replace(' ','_').lower()\n",
    "        if prop:\n",
    "            ele = row.select('td.dataCell')[0]\n",
    "            if ele == []:\n",
    "                raise Exception('Cannot find dataCell')\n",
    "            \n",
    "            if property_type not in result:\n",
    "                result[property_type] = {}\n",
    "\n",
    "            if prop not in result[property_type]:\n",
    "                result[property_type][prop] = convert_to_numeric_value(ele.text.strip())\n",
    "                # result[property_type][prop] = ele.text.strip()\n",
    "\n",
    "    return result\n",
    "\n",
    "result = parse_page(link,session)\n",
    "result\n"
   ]
  },
  {
   "cell_type": "code",
   "execution_count": 13,
   "metadata": {},
   "outputs": [
    {
     "data": {
      "application/vnd.jupyter.widget-view+json": {
       "model_id": "953084f857aa450ca4d8e11b43ff511f",
       "version_major": 2,
       "version_minor": 0
      },
      "text/plain": [
       "Processing:   0%|          | 0/11744 [00:00<?, ?iteration/s]"
      ]
     },
     "metadata": {},
     "output_type": "display_data"
    },
    {
     "name": "stdout",
     "output_type": "stream",
     "text": [
      "Error at index223\n"
     ]
    },
    {
     "data": {
      "application/vnd.jupyter.widget-view+json": {
       "model_id": "ef02e6de70ff4c02b0e97c9b28b531c9",
       "version_major": 2,
       "version_minor": 0
      },
      "text/plain": [
       "Processing:   0%|          | 0/11584 [00:00<?, ?iteration/s]"
      ]
     },
     "metadata": {},
     "output_type": "display_data"
    },
    {
     "name": "stdout",
     "output_type": "stream",
     "text": [
      "Error at index563\n"
     ]
    },
    {
     "data": {
      "application/vnd.jupyter.widget-view+json": {
       "model_id": "65bd67687a9c4d36adae4082a8adf158",
       "version_major": 2,
       "version_minor": 0
      },
      "text/plain": [
       "Processing:   0%|          | 0/11244 [00:00<?, ?iteration/s]"
      ]
     },
     "metadata": {},
     "output_type": "display_data"
    }
   ],
   "source": [
    "from pymongo import MongoClient\n",
    "from tqdm.notebook import tqdm\n",
    "import time\n",
    "\n",
    "#connect to mongodb client\n",
    "client = MongoClient(\"mongodb://localhost:27017/\")\n",
    "db = client.matjet\n",
    "collection = db.materials\n",
    "\n",
    "\n",
    "session = requests.Session()\n",
    "\n",
    "\n",
    "n = 4\n",
    "errCount = 0\n",
    "i=63\n",
    "while(errCount <= 3 and i <= len(raw_df.link)-1):\n",
    "    link_range = range(i,len(raw_df.link))\n",
    "    for i in tqdm(link_range, desc=\"Processing\", unit=\"iteration\"):\n",
    "        if (i + 1) % n == 0:\n",
    "            session = requests.Session()\n",
    "        \n",
    "        try:\n",
    "            document = parse_page(link = raw_df.link[i], sesh=session)\n",
    "        except Exception:\n",
    "            if errCount > 3:\n",
    "                raise Exception(f'Error at index{i}')\n",
    "            print(f'Error at index{i}')\n",
    "            time.sleep(180)\n",
    "            errCount += 1\n",
    "            break\n",
    "        \n",
    "        duplicates = collection.count_documents({'name': document['name']})    \n",
    "        \n",
    "        if duplicates > 0:\n",
    "            print('Duplicate found: Did not add.')\n",
    "            errCount = 0\n",
    "        else:\n",
    "            collection.insert_one(document)\n",
    "            errCount = 0\n",
    "        "
   ]
  }
 ],
 "metadata": {
  "kernelspec": {
   "display_name": "webscraper-venv",
   "language": "python",
   "name": "python3"
  },
  "language_info": {
   "codemirror_mode": {
    "name": "ipython",
    "version": 3
   },
   "file_extension": ".py",
   "mimetype": "text/x-python",
   "name": "python",
   "nbconvert_exporter": "python",
   "pygments_lexer": "ipython3",
   "version": "3.11.4"
  },
  "orig_nbformat": 4
 },
 "nbformat": 4,
 "nbformat_minor": 2
}
