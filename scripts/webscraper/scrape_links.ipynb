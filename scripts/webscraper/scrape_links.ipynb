{
 "cells": [
  {
   "cell_type": "code",
   "execution_count": 3,
   "metadata": {},
   "outputs": [
    {
     "name": "stdout",
     "output_type": "stream",
     "text": [
      "Raw Size:  1813\n"
     ]
    }
   ],
   "source": [
    "import yaml\n",
    "import pandas as pd\n",
    "\n",
    "folder_location = 'C:/Users/ttrol/CodingProjects/MatNet/scripts/webscraper/results_files/'\n",
    "filename = 'AISI_steels.yaml'\n",
    "file_location = folder_location + filename\n",
    "\n",
    "with open(file_location, \"r\") as stream:\n",
    "    try:\n",
    "        raw_materials = yaml.safe_load(stream)\n",
    "        print('Raw Size: ', len(raw_materials))\n",
    "        raw_df = pd.DataFrame(raw_materials)\n",
    "    except yaml.YAMLError as exc:\n",
    "        print(exc)"
   ]
  },
  {
   "cell_type": "code",
   "execution_count": null,
   "metadata": {},
   "outputs": [],
   "source": [
    "import requests\n",
    "from bs4 import BeautifulSoup\n",
    "\n",
    "session = requests.Session()\n",
    "    # session.cookies.set_policy(BlockAll())\n",
    "    headers =  {\n",
    "       'User-Agent': 'Mozilla/5.0 (Windows NT 10.0; Win64; x64) AppleWebKit/537.36 (KHTML, like Gecko) Chrome/58.0.3029.110 Safari/537.36',\n",
    "    }\n",
    "    \n",
    "    entry = ('http://customer-%s:%s@%s' %\n",
    "        (USERNAME, PASSWORD, ENDPOINT))\n",
    "    query = {\n",
    "        'http': entry,\n",
    "        'https': entry,\n",
    "    }\n",
    "\n",
    "    proxies = query\n",
    "\n",
    "    for i in range(5):\n",
    "        response = session.get(\n",
    "            url='https://ip.oxylabs.io',\n",
    "            proxies= proxies,\n",
    "            verify=True,\n",
    "            headers=headers\n",
    "        )\n",
    "        soup = BeautifulSoup(response.content,'lxml')\n",
    "        print(soup.get_text().strip())\n",
    "\n",
    "        response = session.get(\n",
    "            headers=headers,\n",
    "            url='https://matweb.com/search/DataSheet.aspx?MatGUID=66575ff2cd5249c49d76df15b47dbca4',\n",
    "            proxies= proxies,\n",
    "            verify=True\n",
    "        )\n",
    "\n",
    "        soup = BeautifulSoup(response.content,'lxml')\n",
    "        print(soup.title)"
   ]
  }
 ],
 "metadata": {
  "kernelspec": {
   "display_name": "webscraper-venv",
   "language": "python",
   "name": "python3"
  },
  "language_info": {
   "codemirror_mode": {
    "name": "ipython",
    "version": 3
   },
   "file_extension": ".py",
   "mimetype": "text/x-python",
   "name": "python",
   "nbconvert_exporter": "python",
   "pygments_lexer": "ipython3",
   "version": "3.11.4"
  },
  "orig_nbformat": 4
 },
 "nbformat": 4,
 "nbformat_minor": 2
}
